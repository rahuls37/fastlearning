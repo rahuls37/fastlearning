{
 "cells": [
  {
   "cell_type": "code",
   "execution_count": 1,
   "id": "21f3d4c1",
   "metadata": {},
   "outputs": [],
   "source": [
    "item_info = [\n",
    "    {'name': 'Rahul', 'description': 'He is a good boy!', 'prize': '10000'}\n",
    "]\n",
    "\n",
    "def load_data(item_info):\n",
    "    return item_info"
   ]
  },
  {
   "cell_type": "code",
   "execution_count": 3,
   "id": "5b386f3a",
   "metadata": {},
   "outputs": [
    {
     "name": "stdout",
     "output_type": "stream",
     "text": [
      "[{'name': 'Rahul', 'description': 'He is a good boy!', 'prize': '10000'}, {'name': 'Rahul1', 'description': 'He is a good2 boy!', 'prize': '100300'}]\n"
     ]
    }
   ],
   "source": [
    "item = {'name': 'Rahul1', 'description': 'He is a good2 boy!', 'prize': '100300'}\n",
    "data = load_data(item_info)\n",
    "data.append(item)\n",
    "print(data)"
   ]
  },
  {
   "cell_type": "code",
   "execution_count": null,
   "metadata": {},
   "outputs": [],
   "source": []
  },
  {
   "cell_type": "code",
   "execution_count": null,
   "id": "f138e5cc",
   "metadata": {},
   "outputs": [],
   "source": []
  },
  {
   "cell_type": "code",
   "execution_count": null,
   "metadata": {},
   "outputs": [],
   "source": []
  }
 ],
 "metadata": {
  "kernelspec": {
   "display_name": "Python 3",
   "language": "python",
   "name": "python3"
  },
  "language_info": {
   "codemirror_mode": {
    "name": "ipython",
    "version": 3
   },
   "file_extension": ".py",
   "mimetype": "text/x-python",
   "name": "python",
   "nbconvert_exporter": "python",
   "pygments_lexer": "ipython3",
   "version": "3.12.1"
  }
 },
 "nbformat": 4,
 "nbformat_minor": 5
}
